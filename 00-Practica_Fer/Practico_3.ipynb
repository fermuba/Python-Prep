{
 "cells": [
  {
   "attachments": {},
   "cell_type": "markdown",
   "metadata": {},
   "source": [
    "## Flujos de Control"
   ]
  },
  {
   "attachments": {},
   "cell_type": "markdown",
   "metadata": {},
   "source": [
    "1. Crear una variable que contenga un elemento del conjunto de números enteros y luego imprimir por pantalla si es mayor o menor a cero"
   ]
  },
  {
   "cell_type": "code",
   "execution_count": 2,
   "metadata": {},
   "outputs": [
    {
     "name": "stdout",
     "output_type": "stream",
     "text": [
      "El numero  -4  es menor que cero\n"
     ]
    }
   ],
   "source": [
    "a = -4\n",
    "if(a > 0):\n",
    "    print('El numero ', a,' es mayor que cero')\n",
    "elif(a < 0):\n",
    "    print('El numero ', a,' es menor que cero')\n",
    "#< >"
   ]
  },
  {
   "attachments": {},
   "cell_type": "markdown",
   "metadata": {},
   "source": [
    "2. Crear dos variables y un condicional que informe si son del mismo tipo de dato"
   ]
  },
  {
   "cell_type": "code",
   "execution_count": 4,
   "metadata": {},
   "outputs": [
    {
     "name": "stdout",
     "output_type": "stream",
     "text": [
      "Son de distinto tipo de datos\n"
     ]
    }
   ],
   "source": [
    "b1 = 4\n",
    "b2 = 6.4\n",
    "if(type(b1) == type(b2)):\n",
    "    print('Son del mismo tipo de dato')\n",
    "else:\n",
    "    print('Son de distinto tipo de datos')"
   ]
  },
  {
   "attachments": {},
   "cell_type": "markdown",
   "metadata": {},
   "source": [
    "3. Para los valores enteros del 1 al 20, imprimir por pantalla si es par o impar"
   ]
  },
  {
   "cell_type": "code",
   "execution_count": 7,
   "metadata": {},
   "outputs": [
    {
     "name": "stdout",
     "output_type": "stream",
     "text": [
      "1  es numero impar\n",
      "2  es numero par\n",
      "3  es numero impar\n",
      "4  es numero par\n",
      "5  es numero impar\n",
      "6  es numero par\n",
      "7  es numero impar\n",
      "8  es numero par\n",
      "9  es numero impar\n",
      "10  es numero par\n",
      "11  es numero impar\n",
      "12  es numero par\n",
      "13  es numero impar\n",
      "14  es numero par\n",
      "15  es numero impar\n",
      "16  es numero par\n",
      "17  es numero impar\n",
      "18  es numero par\n",
      "19  es numero impar\n",
      "20  es numero par\n"
     ]
    }
   ],
   "source": [
    "for i in range(1 , 21):\n",
    "    num = i % 2\n",
    "    if(num == 0):\n",
    "        print(i, ' es numero par')\n",
    "    else:\n",
    "        print(i, ' es numero impar')"
   ]
  },
  {
   "attachments": {},
   "cell_type": "markdown",
   "metadata": {},
   "source": [
    "4. En un ciclo for mostrar para los valores entre 0 y 5 el resultado de elevarlo a la potencia igual a 3"
   ]
  },
  {
   "cell_type": "code",
   "execution_count": 9,
   "metadata": {},
   "outputs": [
    {
     "name": "stdout",
     "output_type": "stream",
     "text": [
      "0\n",
      "1\n",
      "8\n",
      "27\n",
      "64\n",
      "125\n"
     ]
    }
   ],
   "source": [
    "for i in range(0 , 6):\n",
    "    print(i ** 3)"
   ]
  },
  {
   "attachments": {},
   "cell_type": "markdown",
   "metadata": {},
   "source": [
    "5. Crear una variable que contenga un número entero y realizar un ciclo for la misma cantidad de ciclos"
   ]
  },
  {
   "cell_type": "code",
   "execution_count": 11,
   "metadata": {},
   "outputs": [
    {
     "name": "stdout",
     "output_type": "stream",
     "text": [
      "1\n",
      "2\n",
      "3\n",
      "4\n",
      "5\n",
      "6\n",
      "7\n",
      "8\n"
     ]
    }
   ],
   "source": [
    "ciclo = 8\n",
    "for i in range(1 , (ciclo + 1)):\n",
    "    print(i)"
   ]
  },
  {
   "attachments": {},
   "cell_type": "markdown",
   "metadata": {},
   "source": [
    "6. Utilizar un ciclo while para realizar el factoreo de un número guardado en una variable, sólo si la variable contiene un número entero mayor a 0"
   ]
  },
  {
   "cell_type": "code",
   "execution_count": 18,
   "metadata": {},
   "outputs": [
    {
     "name": "stdout",
     "output_type": "stream",
     "text": [
      "El factoreo de  5  es  120\n"
     ]
    }
   ],
   "source": [
    "var_origin = 5\n",
    "var = var_origin\n",
    "#print(type(int))\n",
    "#print(type(var))\n",
    "\n",
    "if(var > 0 and type(2) == type(var)):\n",
    "    factor = var\n",
    "    while(var > 1):\n",
    "        var -= 1\n",
    "        factor = factor * var \n",
    "    print('El factoreo de ', var_origin, ' es ', factor )\n",
    "else:\n",
    "    print('El numero no es entero o mayor que cero')"
   ]
  },
  {
   "attachments": {},
   "cell_type": "markdown",
   "metadata": {},
   "source": [
    "7. Crear un ciclo for dentro de un ciclo while"
   ]
  },
  {
   "cell_type": "code",
   "execution_count": 20,
   "metadata": {},
   "outputs": [
    {
     "name": "stdout",
     "output_type": "stream",
     "text": [
      "El ciclo for es numero  0\n",
      "El ciclo for es numero  1\n",
      "El ciclo for es numero  2\n",
      "El ciclo for es numero  3\n",
      "El ciclo while es numero  4\n",
      "El ciclo for es numero  0\n",
      "El ciclo for es numero  1\n",
      "El ciclo for es numero  2\n",
      "El ciclo for es numero  3\n",
      "El ciclo while es numero  3\n",
      "El ciclo for es numero  0\n",
      "El ciclo for es numero  1\n",
      "El ciclo for es numero  2\n",
      "El ciclo for es numero  3\n",
      "El ciclo while es numero  2\n",
      "El ciclo for es numero  0\n",
      "El ciclo for es numero  1\n",
      "El ciclo for es numero  2\n",
      "El ciclo for es numero  3\n",
      "El ciclo while es numero  1\n"
     ]
    }
   ],
   "source": [
    "m = 4\n",
    "\n",
    "while(m > 0):\n",
    "    for i in range(0 , 4):\n",
    "        print('El ciclo for es numero ', i)\n",
    "    print('El ciclo while es numero ', m)\n",
    "    m -= 1\n",
    "    \n"
   ]
  },
  {
   "attachments": {},
   "cell_type": "markdown",
   "metadata": {},
   "source": [
    "8. Crear un ciclo while dentro de un ciclo for"
   ]
  },
  {
   "cell_type": "code",
   "execution_count": 23,
   "metadata": {},
   "outputs": [
    {
     "name": "stdout",
     "output_type": "stream",
     "text": [
      "1\n",
      "2\n",
      "3\n"
     ]
    }
   ],
   "source": [
    "for i in range(1 , 4):\n",
    "    while(i > 0):\n",
    "        print(i)\n",
    "        break"
   ]
  },
  {
   "attachments": {},
   "cell_type": "markdown",
   "metadata": {},
   "source": [
    "Imprimir los números primos existentes entre 0 y 30\n",
    "\n",
    "¿Se puede mejorar el proceso del punto 9? Utilizar las sentencias break y/ó continue para tal fin\n",
    "\n",
    "En los puntos 9 y 10, se diseño un código que encuentra números primos y además se lo optimizó. ¿Es posible saber en qué medida se optimizó?\n",
    "\n",
    "Si la cantidad de números que se evalúa es mayor a treinta, esa optimización crece?\n",
    "\n",
    "Aplicando continue, armar un ciclo while que solo imprima los valores divisibles por 12, dentro del rango de números de 100 a 300\n",
    "\n",
    "Utilizar la función input() que permite hacer ingresos por teclado, para encontrar números primos y dar la opción al usario de buscar el siguiente\n",
    "\n",
    "Crear un ciclo while que encuentre dentro del rango de 100 a 300 el primer número divisible por 3 y además múltiplo de 6"
   ]
  },
  {
   "cell_type": "code",
   "execution_count": null,
   "metadata": {},
   "outputs": [],
   "source": []
  }
 ],
 "metadata": {
  "kernelspec": {
   "display_name": "Python 3",
   "language": "python",
   "name": "python3"
  },
  "language_info": {
   "codemirror_mode": {
    "name": "ipython",
    "version": 3
   },
   "file_extension": ".py",
   "mimetype": "text/x-python",
   "name": "python",
   "nbconvert_exporter": "python",
   "pygments_lexer": "ipython3",
   "version": "3.10.6"
  },
  "orig_nbformat": 4,
  "vscode": {
   "interpreter": {
    "hash": "916dbcbb3f70747c44a77c7bcd40155683ae19c65e1c03b4aa3499c5328201f1"
   }
  }
 },
 "nbformat": 4,
 "nbformat_minor": 2
}
