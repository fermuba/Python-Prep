{
 "cells": [
  {
   "attachments": {},
   "cell_type": "markdown",
   "metadata": {},
   "source": [
    "## Flujos de Control"
   ]
  },
  {
   "attachments": {},
   "cell_type": "markdown",
   "metadata": {},
   "source": [
    "1. Crear una variable que contenga un elemento del conjunto de números enteros y luego imprimir por pantalla si es mayor o menor a cero"
   ]
  },
  {
   "cell_type": "code",
   "execution_count": 2,
   "metadata": {},
   "outputs": [
    {
     "name": "stdout",
     "output_type": "stream",
     "text": [
      "El numero  -4  es menor que cero\n"
     ]
    }
   ],
   "source": [
    "a = -4\n",
    "if(a > 0):\n",
    "    print('El numero ', a,' es mayor que cero')\n",
    "elif(a < 0):\n",
    "    print('El numero ', a,' es menor que cero')\n",
    "#< >"
   ]
  },
  {
   "attachments": {},
   "cell_type": "markdown",
   "metadata": {},
   "source": [
    "2. Crear dos variables y un condicional que informe si son del mismo tipo de dato"
   ]
  },
  {
   "cell_type": "code",
   "execution_count": 4,
   "metadata": {},
   "outputs": [
    {
     "name": "stdout",
     "output_type": "stream",
     "text": [
      "Son de distinto tipo de datos\n"
     ]
    }
   ],
   "source": [
    "b1 = 4\n",
    "b2 = 6.4\n",
    "if(type(b1) == type(b2)):\n",
    "    print('Son del mismo tipo de dato')\n",
    "else:\n",
    "    print('Son de distinto tipo de datos')"
   ]
  },
  {
   "attachments": {},
   "cell_type": "markdown",
   "metadata": {},
   "source": [
    "3. Para los valores enteros del 1 al 20, imprimir por pantalla si es par o impar"
   ]
  },
  {
   "cell_type": "code",
   "execution_count": 7,
   "metadata": {},
   "outputs": [
    {
     "name": "stdout",
     "output_type": "stream",
     "text": [
      "1  es numero impar\n",
      "2  es numero par\n",
      "3  es numero impar\n",
      "4  es numero par\n",
      "5  es numero impar\n",
      "6  es numero par\n",
      "7  es numero impar\n",
      "8  es numero par\n",
      "9  es numero impar\n",
      "10  es numero par\n",
      "11  es numero impar\n",
      "12  es numero par\n",
      "13  es numero impar\n",
      "14  es numero par\n",
      "15  es numero impar\n",
      "16  es numero par\n",
      "17  es numero impar\n",
      "18  es numero par\n",
      "19  es numero impar\n",
      "20  es numero par\n"
     ]
    }
   ],
   "source": [
    "for i in range(1 , 21):\n",
    "    num = i % 2\n",
    "    if(num == 0):\n",
    "        print(i, ' es numero par')\n",
    "    else:\n",
    "        print(i, ' es numero impar')"
   ]
  },
  {
   "attachments": {},
   "cell_type": "markdown",
   "metadata": {},
   "source": [
    "4. En un ciclo for mostrar para los valores entre 0 y 5 el resultado de elevarlo a la potencia igual a 3"
   ]
  },
  {
   "cell_type": "code",
   "execution_count": 9,
   "metadata": {},
   "outputs": [
    {
     "name": "stdout",
     "output_type": "stream",
     "text": [
      "0\n",
      "1\n",
      "8\n",
      "27\n",
      "64\n",
      "125\n"
     ]
    }
   ],
   "source": [
    "for i in range(0 , 6):\n",
    "    print(i ** 3)"
   ]
  },
  {
   "attachments": {},
   "cell_type": "markdown",
   "metadata": {},
   "source": [
    "5. Crear una variable que contenga un número entero y realizar un ciclo for la misma cantidad de ciclos"
   ]
  },
  {
   "cell_type": "code",
   "execution_count": 11,
   "metadata": {},
   "outputs": [
    {
     "name": "stdout",
     "output_type": "stream",
     "text": [
      "1\n",
      "2\n",
      "3\n",
      "4\n",
      "5\n",
      "6\n",
      "7\n",
      "8\n"
     ]
    }
   ],
   "source": [
    "ciclo = 8\n",
    "for i in range(1 , (ciclo + 1)):\n",
    "    print(i)"
   ]
  },
  {
   "attachments": {},
   "cell_type": "markdown",
   "metadata": {},
   "source": [
    "6. Utilizar un ciclo while para realizar el factoreo de un número guardado en una variable, sólo si la variable contiene un número entero mayor a 0"
   ]
  },
  {
   "cell_type": "code",
   "execution_count": 18,
   "metadata": {},
   "outputs": [
    {
     "name": "stdout",
     "output_type": "stream",
     "text": [
      "El factoreo de  5  es  120\n"
     ]
    }
   ],
   "source": [
    "var_origin = 5\n",
    "var = var_origin\n",
    "#print(type(int))\n",
    "#print(type(var))\n",
    "\n",
    "if(var > 0 and type(2) == type(var)):\n",
    "    factor = var\n",
    "    while(var > 1):\n",
    "        var -= 1\n",
    "        factor = factor * var \n",
    "    print('El factoreo de ', var_origin, ' es ', factor )\n",
    "else:\n",
    "    print('El numero no es entero o mayor que cero')"
   ]
  },
  {
   "attachments": {},
   "cell_type": "markdown",
   "metadata": {},
   "source": [
    "7. Crear un ciclo for dentro de un ciclo while"
   ]
  },
  {
   "cell_type": "code",
   "execution_count": 20,
   "metadata": {},
   "outputs": [
    {
     "name": "stdout",
     "output_type": "stream",
     "text": [
      "El ciclo for es numero  0\n",
      "El ciclo for es numero  1\n",
      "El ciclo for es numero  2\n",
      "El ciclo for es numero  3\n",
      "El ciclo while es numero  4\n",
      "El ciclo for es numero  0\n",
      "El ciclo for es numero  1\n",
      "El ciclo for es numero  2\n",
      "El ciclo for es numero  3\n",
      "El ciclo while es numero  3\n",
      "El ciclo for es numero  0\n",
      "El ciclo for es numero  1\n",
      "El ciclo for es numero  2\n",
      "El ciclo for es numero  3\n",
      "El ciclo while es numero  2\n",
      "El ciclo for es numero  0\n",
      "El ciclo for es numero  1\n",
      "El ciclo for es numero  2\n",
      "El ciclo for es numero  3\n",
      "El ciclo while es numero  1\n"
     ]
    }
   ],
   "source": [
    "m = 4\n",
    "\n",
    "while(m > 0):\n",
    "    for i in range(0 , 4):\n",
    "        print('El ciclo for es numero ', i)\n",
    "    print('El ciclo while es numero ', m)\n",
    "    m -= 1\n",
    "    \n"
   ]
  },
  {
   "attachments": {},
   "cell_type": "markdown",
   "metadata": {},
   "source": [
    "8. Crear un ciclo while dentro de un ciclo for"
   ]
  },
  {
   "cell_type": "code",
   "execution_count": 23,
   "metadata": {},
   "outputs": [
    {
     "name": "stdout",
     "output_type": "stream",
     "text": [
      "1\n",
      "2\n",
      "3\n"
     ]
    }
   ],
   "source": [
    "for i in range(1 , 4):\n",
    "    while(i > 0):\n",
    "        print(i)\n",
    "        break"
   ]
  },
  {
   "attachments": {},
   "cell_type": "markdown",
   "metadata": {},
   "source": [
    "9. Imprimir los números primos existentes entre 0 y 30"
   ]
  },
  {
   "cell_type": "code",
   "execution_count": 34,
   "metadata": {},
   "outputs": [
    {
     "name": "stdout",
     "output_type": "stream",
     "text": [
      "1  es numero primo\n",
      "2  es numero primo\n",
      "3  es numero primo\n",
      "5  es numero primo\n",
      "7  es numero primo\n",
      "11  es numero primo\n",
      "13  es numero primo\n",
      "17  es numero primo\n",
      "19  es numero primo\n",
      "23  es numero primo\n",
      "29  es numero primo\n"
     ]
    }
   ],
   "source": [
    "for num1 in range(1 , 31):\n",
    "    primo = True\n",
    "    num2 = 2\n",
    "    while(num1 > num2):\n",
    "        if((num1 % num2) == 0):\n",
    "            primo = False \n",
    "        num2 += 1  \n",
    "    if(primo):\n",
    "        print(num1, ' es numero primo')\n",
    "        "
   ]
  },
  {
   "attachments": {},
   "cell_type": "markdown",
   "metadata": {},
   "source": [
    "10. ¿Se puede mejorar el proceso del punto 9? Utilizar las sentencias break y/ó continue para tal fin"
   ]
  },
  {
   "cell_type": "code",
   "execution_count": 35,
   "metadata": {},
   "outputs": [
    {
     "name": "stdout",
     "output_type": "stream",
     "text": [
      "1  es numero primo\n",
      "2  es numero primo\n",
      "3  es numero primo\n",
      "5  es numero primo\n",
      "7  es numero primo\n",
      "11  es numero primo\n",
      "13  es numero primo\n",
      "17  es numero primo\n",
      "19  es numero primo\n",
      "23  es numero primo\n",
      "29  es numero primo\n"
     ]
    }
   ],
   "source": [
    "for num1 in range(1 , 31):\n",
    "    primo = True\n",
    "    num2 = 2\n",
    "    while(num1 > num2):\n",
    "        if((num1 % num2) == 0):\n",
    "            primo = False \n",
    "            break\n",
    "        num2 += 1  \n",
    "    if(primo):\n",
    "        print(num1, ' es numero primo')\n",
    "        "
   ]
  },
  {
   "attachments": {},
   "cell_type": "markdown",
   "metadata": {},
   "source": [
    "11. En los puntos 9 y 10, se diseño un código que encuentra números primos y además se lo optimizó. ¿Es posible saber en qué medida se optimizó?"
   ]
  },
  {
   "attachments": {},
   "cell_type": "markdown",
   "metadata": {},
   "source": [
    "12. Si la cantidad de números que se evalúa es mayor a treinta, esa optimización crece?"
   ]
  },
  {
   "attachments": {},
   "cell_type": "markdown",
   "metadata": {},
   "source": [
    "13. Aplicando continue, armar un ciclo while que solo imprima los valores divisibles por 12, dentro del rango de números de 100 a 300"
   ]
  },
  {
   "cell_type": "code",
   "execution_count": 42,
   "metadata": {},
   "outputs": [
    {
     "name": "stdout",
     "output_type": "stream",
     "text": [
      "108\n",
      "120\n",
      "132\n",
      "144\n",
      "156\n",
      "168\n",
      "180\n",
      "192\n",
      "204\n",
      "216\n",
      "228\n",
      "240\n",
      "252\n",
      "264\n",
      "276\n",
      "288\n"
     ]
    }
   ],
   "source": [
    "num = 100\n",
    "while(num < 300):\n",
    "    if(num % 12 == 0):\n",
    "        print(num)\n",
    "        #continue\n",
    "    #print(num)\n",
    "    num += 1"
   ]
  },
  {
   "attachments": {},
   "cell_type": "markdown",
   "metadata": {},
   "source": [
    "14. Utilizar la función input() que permite hacer ingresos por teclado, para encontrar números primos y dar la opción al usario de buscar el siguiente"
   ]
  },
  {
   "cell_type": "code",
   "execution_count": 53,
   "metadata": {},
   "outputs": [
    {
     "name": "stdout",
     "output_type": "stream",
     "text": [
      "Programa de busqueda de numeros primos\n",
      "Ingrese un numero\n"
     ]
    },
    {
     "ename": "KeyboardInterrupt",
     "evalue": "Interrupted by user",
     "output_type": "error",
     "traceback": [
      "\u001b[0;31m---------------------------------------------------------------------------\u001b[0m",
      "\u001b[0;31mKeyboardInterrupt\u001b[0m                         Traceback (most recent call last)",
      "Cell \u001b[0;32mIn[53], line 16\u001b[0m\n\u001b[1;32m     14\u001b[0m     \u001b[39mprint\u001b[39m(num1, \u001b[39m'\u001b[39m\u001b[39m es numero primo\u001b[39m\u001b[39m'\u001b[39m)\n\u001b[1;32m     15\u001b[0m     \u001b[39mprint\u001b[39m(\u001b[39m'\u001b[39m\u001b[39mToque una tecla para el siguiente y 0 para salir\u001b[39m\u001b[39m'\u001b[39m)\n\u001b[0;32m---> 16\u001b[0m num \u001b[39m=\u001b[39m \u001b[39minput\u001b[39;49m()\n",
      "File \u001b[0;32m~/.local/lib/python3.10/site-packages/ipykernel/kernelbase.py:1175\u001b[0m, in \u001b[0;36mKernel.raw_input\u001b[0;34m(self, prompt)\u001b[0m\n\u001b[1;32m   1171\u001b[0m \u001b[39mif\u001b[39;00m \u001b[39mnot\u001b[39;00m \u001b[39mself\u001b[39m\u001b[39m.\u001b[39m_allow_stdin:\n\u001b[1;32m   1172\u001b[0m     \u001b[39mraise\u001b[39;00m StdinNotImplementedError(\n\u001b[1;32m   1173\u001b[0m         \u001b[39m\"\u001b[39m\u001b[39mraw_input was called, but this frontend does not support input requests.\u001b[39m\u001b[39m\"\u001b[39m\n\u001b[1;32m   1174\u001b[0m     )\n\u001b[0;32m-> 1175\u001b[0m \u001b[39mreturn\u001b[39;00m \u001b[39mself\u001b[39;49m\u001b[39m.\u001b[39;49m_input_request(\n\u001b[1;32m   1176\u001b[0m     \u001b[39mstr\u001b[39;49m(prompt),\n\u001b[1;32m   1177\u001b[0m     \u001b[39mself\u001b[39;49m\u001b[39m.\u001b[39;49m_parent_ident[\u001b[39m\"\u001b[39;49m\u001b[39mshell\u001b[39;49m\u001b[39m\"\u001b[39;49m],\n\u001b[1;32m   1178\u001b[0m     \u001b[39mself\u001b[39;49m\u001b[39m.\u001b[39;49mget_parent(\u001b[39m\"\u001b[39;49m\u001b[39mshell\u001b[39;49m\u001b[39m\"\u001b[39;49m),\n\u001b[1;32m   1179\u001b[0m     password\u001b[39m=\u001b[39;49m\u001b[39mFalse\u001b[39;49;00m,\n\u001b[1;32m   1180\u001b[0m )\n",
      "File \u001b[0;32m~/.local/lib/python3.10/site-packages/ipykernel/kernelbase.py:1217\u001b[0m, in \u001b[0;36mKernel._input_request\u001b[0;34m(self, prompt, ident, parent, password)\u001b[0m\n\u001b[1;32m   1214\u001b[0m             \u001b[39mbreak\u001b[39;00m\n\u001b[1;32m   1215\u001b[0m \u001b[39mexcept\u001b[39;00m \u001b[39mKeyboardInterrupt\u001b[39;00m:\n\u001b[1;32m   1216\u001b[0m     \u001b[39m# re-raise KeyboardInterrupt, to truncate traceback\u001b[39;00m\n\u001b[0;32m-> 1217\u001b[0m     \u001b[39mraise\u001b[39;00m \u001b[39mKeyboardInterrupt\u001b[39;00m(\u001b[39m\"\u001b[39m\u001b[39mInterrupted by user\u001b[39m\u001b[39m\"\u001b[39m) \u001b[39mfrom\u001b[39;00m \u001b[39mNone\u001b[39m\n\u001b[1;32m   1218\u001b[0m \u001b[39mexcept\u001b[39;00m \u001b[39mException\u001b[39;00m:\n\u001b[1;32m   1219\u001b[0m     \u001b[39mself\u001b[39m\u001b[39m.\u001b[39mlog\u001b[39m.\u001b[39mwarning(\u001b[39m\"\u001b[39m\u001b[39mInvalid Message:\u001b[39m\u001b[39m\"\u001b[39m, exc_info\u001b[39m=\u001b[39m\u001b[39mTrue\u001b[39;00m)\n",
      "\u001b[0;31mKeyboardInterrupt\u001b[0m: Interrupted by user"
     ]
    }
   ],
   "source": [
    "print('Programa de busqueda de numeros primos')\n",
    "print('Ingrese un numero')\n",
    "num = input()\n",
    "\n",
    "while(num != 0):\n",
    "    primo = True\n",
    "    num2 = 2\n",
    "    while(num1 > num2):\n",
    "        if((num1 % num2) == 0):\n",
    "            primo = False \n",
    "            break\n",
    "        num2 += 1  \n",
    "    if(primo):\n",
    "        print(num1, ' es numero primo')\n",
    "        print('Toque una tecla para el siguiente y 0 para salir')\n",
    "    num = input()\n",
    "        "
   ]
  },
  {
   "attachments": {},
   "cell_type": "markdown",
   "metadata": {},
   "source": [
    "15. Crear un ciclo while que encuentre dentro del rango de 100 a 300 el primer número divisible por 3 y además múltiplo de 6"
   ]
  },
  {
   "cell_type": "code",
   "execution_count": 56,
   "metadata": {},
   "outputs": [
    {
     "name": "stdout",
     "output_type": "stream",
     "text": [
      "102\n"
     ]
    }
   ],
   "source": [
    "num = 100\n",
    "while(num < 300):\n",
    "    if((num % 6 == 0) and (num % 3 == 0)):\n",
    "        print(num)\n",
    "        break\n",
    "    num += 1"
   ]
  }
 ],
 "metadata": {
  "kernelspec": {
   "display_name": "Python 3",
   "language": "python",
   "name": "python3"
  },
  "language_info": {
   "codemirror_mode": {
    "name": "ipython",
    "version": 3
   },
   "file_extension": ".py",
   "mimetype": "text/x-python",
   "name": "python",
   "nbconvert_exporter": "python",
   "pygments_lexer": "ipython3",
   "version": "3.10.6"
  },
  "orig_nbformat": 4,
  "vscode": {
   "interpreter": {
    "hash": "916dbcbb3f70747c44a77c7bcd40155683ae19c65e1c03b4aa3499c5328201f1"
   }
  }
 },
 "nbformat": 4,
 "nbformat_minor": 2
}
