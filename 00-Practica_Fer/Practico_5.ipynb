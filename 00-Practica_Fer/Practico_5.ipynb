{
 "cells": [
  {
   "cell_type": "markdown",
   "metadata": {},
   "source": [
    "## Iteradores e iterables"
   ]
  },
  {
   "cell_type": "markdown",
   "metadata": {},
   "source": [
    "1) A partir de una lista vacía, utilizar un ciclo while para cargar allí números negativos del -15 al -1"
   ]
  },
  {
   "cell_type": "code",
   "execution_count": 3,
   "metadata": {},
   "outputs": [],
   "source": [
    "lista_1 = []\n",
    "num = -15\n",
    "while(num < 0):\n",
    "    lista_1.append(int(num))\n",
    "    num += 1\n",
    "\n"
   ]
  },
  {
   "cell_type": "code",
   "execution_count": 4,
   "metadata": {},
   "outputs": [
    {
     "data": {
      "text/plain": [
       "[-15, -14, -13, -12, -11, -10, -9, -8, -7, -6, -5, -4, -3, -2, -1]"
      ]
     },
     "execution_count": 4,
     "metadata": {},
     "output_type": "execute_result"
    }
   ],
   "source": [
    "lista_1"
   ]
  },
  {
   "cell_type": "markdown",
   "metadata": {},
   "source": [
    "2) ¿Con un ciclo while sería posible recorrer la lista para imprimir sólo los números pares?"
   ]
  },
  {
   "cell_type": "code",
   "execution_count": 7,
   "metadata": {},
   "outputs": [
    {
     "name": "stdout",
     "output_type": "stream",
     "text": [
      "-15  es numero impar\n",
      "-14  es numero par\n",
      "-13  es numero impar\n",
      "-12  es numero par\n",
      "-11  es numero impar\n",
      "-10  es numero par\n",
      "-9  es numero impar\n",
      "-8  es numero par\n",
      "-7  es numero impar\n",
      "-6  es numero par\n",
      "-5  es numero impar\n",
      "-4  es numero par\n",
      "-3  es numero impar\n",
      "-2  es numero par\n",
      "-1  es numero impar\n"
     ]
    }
   ],
   "source": [
    "num = 0\n",
    "while(num < 15):\n",
    "    if(lista_1[num] % 2):\n",
    "        print(lista_1[num] , ' es numero impar')\n",
    "    else:\n",
    "        print(lista_1[num], ' es numero par')\n",
    "    num += 1;\n"
   ]
  },
  {
   "cell_type": "markdown",
   "metadata": {},
   "source": [
    "3) Resolver el punto anterior sin utilizar un ciclo while"
   ]
  },
  {
   "cell_type": "code",
   "execution_count": 9,
   "metadata": {},
   "outputs": [
    {
     "name": "stdout",
     "output_type": "stream",
     "text": [
      "-15  es numero impar\n",
      "-14  es numero par\n",
      "-13  es numero impar\n",
      "-12  es numero par\n",
      "-11  es numero impar\n",
      "-10  es numero par\n",
      "-9  es numero impar\n",
      "-8  es numero par\n",
      "-7  es numero impar\n",
      "-6  es numero par\n",
      "-5  es numero impar\n",
      "-4  es numero par\n",
      "-3  es numero impar\n",
      "-2  es numero par\n",
      "-1  es numero impar\n"
     ]
    }
   ],
   "source": [
    "for num in lista_1:\n",
    "    if(lista_1[num] % 2):\n",
    "        print(lista_1[num] , ' es numero impar')\n",
    "    else:\n",
    "        print(lista_1[num], ' es numero par')\n"
   ]
  },
  {
   "cell_type": "markdown",
   "metadata": {},
   "source": [
    "4) Utilizar el iterable para recorrer sólo los primeros 3 elementos"
   ]
  },
  {
   "cell_type": "code",
   "execution_count": 12,
   "metadata": {},
   "outputs": [
    {
     "name": "stdout",
     "output_type": "stream",
     "text": [
      "-15  es numero impar\n",
      "-14  es numero par\n",
      "-13  es numero impar\n"
     ]
    }
   ],
   "source": [
    "cuenta = 0\n",
    "for num in lista_1:\n",
    "    cuenta += 1\n",
    "    if(lista_1[num] % 2):\n",
    "        print(lista_1[num] , ' es numero impar')\n",
    "    else:\n",
    "        print(lista_1[num], ' es numero par')\n",
    "    if(cuenta > 2):\n",
    "        break"
   ]
  },
  {
   "cell_type": "markdown",
   "metadata": {},
   "source": [
    "5) Utilizar la función **enumerate** para obtener dentro del iterable, tambien el índice al que corresponde el elemento"
   ]
  },
  {
   "cell_type": "code",
   "execution_count": 13,
   "metadata": {},
   "outputs": [
    {
     "name": "stdout",
     "output_type": "stream",
     "text": [
      "0 E\n",
      "1 s\n",
      "2 t\n",
      "3 a\n",
      "4  \n",
      "5 e\n",
      "6 s\n",
      "7  \n",
      "8 u\n",
      "9 n\n",
      "10 a\n",
      "11  \n",
      "12 p\n",
      "13 r\n",
      "14 u\n",
      "15 e\n",
      "16 b\n",
      "17 a\n"
     ]
    }
   ],
   "source": [
    "a = 'Esta es una prueba'\n",
    "for i, c in enumerate(a):\n",
    "    print(i, c)"
   ]
  },
  {
   "cell_type": "code",
   "execution_count": 21,
   "metadata": {},
   "outputs": [
    {
     "name": "stdout",
     "output_type": "stream",
     "text": [
      "En la posicion  1  esta el numero  -15\n",
      "En la posicion  2  esta el numero  -14\n",
      "En la posicion  3  esta el numero  -13\n",
      "En la posicion  4  esta el numero  -12\n",
      "En la posicion  5  esta el numero  -11\n",
      "En la posicion  6  esta el numero  -10\n",
      "En la posicion  7  esta el numero  -9\n",
      "En la posicion  8  esta el numero  -8\n",
      "En la posicion  9  esta el numero  -7\n",
      "En la posicion  10  esta el numero  -6\n",
      "En la posicion  11  esta el numero  -5\n",
      "En la posicion  12  esta el numero  -4\n",
      "En la posicion  13  esta el numero  -3\n",
      "En la posicion  14  esta el numero  -2\n",
      "En la posicion  15  esta el numero  -1\n"
     ]
    }
   ],
   "source": [
    "for b , c in enumerate(lista_1):\n",
    "    #res = b+1\n",
    "    print('En la posicion ', b+1, ' esta el numero ', c)\n"
   ]
  },
  {
   "cell_type": "markdown",
   "metadata": {},
   "source": [
    "6) Dada la siguiente lista de números enteros entre 1 y 20, crear un ciclo donde se completen los valores faltantes: lista = [1,2,5,7,8,10,13,14,15,17,20]"
   ]
  },
  {
   "cell_type": "code",
   "execution_count": 38,
   "metadata": {},
   "outputs": [
    {
     "name": "stdout",
     "output_type": "stream",
     "text": [
      "[1, 2, 3, 4, 5, 6, 7, 8, 9, 10, 11, 12, 13, 14, 15, 16, 17, 18, 19, 20]\n"
     ]
    }
   ],
   "source": [
    "lista = [1,2,5,7,8,10,13,14,15,17,20]\n",
    "i = 0\n",
    "\n",
    "while(i < 20):\n",
    "    valor = i + 1\n",
    "    if(lista[i] != valor):\n",
    "        lista.insert(i, int(valor)) \n",
    "    i += 1\n",
    "\n",
    "print(lista)"
   ]
  },
  {
   "cell_type": "markdown",
   "metadata": {},
   "source": [
    "7) La sucesión de Fibonacci es un listado de números que sigue la fórmula: <br>\n",
    "n<sub>0</sub> = 0<br>\n",
    "n<sub>1</sub> = 1<br>\n",
    "n<sub>i</sub> = n<sub>i-1</sub> + n<sub>i-2</sub><br>\n",
    "Crear una lista con los primeros treinta números de la sucesión.<br>"
   ]
  },
  {
   "cell_type": "code",
   "execution_count": 23,
   "metadata": {},
   "outputs": [],
   "source": [
    "fibo = [1 , 2]\n",
    "n = 2\n",
    "while(n < 30):\n",
    "    res = fibo[n-1] + fibo[n-2]\n",
    "    fibo.append(res)\n",
    "    n += 1\n"
   ]
  },
  {
   "cell_type": "code",
   "execution_count": 24,
   "metadata": {},
   "outputs": [
    {
     "name": "stdout",
     "output_type": "stream",
     "text": [
      "En la posicion  1 esta  1\n",
      "En la posicion  2 esta  2\n",
      "En la posicion  3 esta  3\n",
      "En la posicion  4 esta  5\n",
      "En la posicion  5 esta  8\n",
      "En la posicion  6 esta  13\n",
      "En la posicion  7 esta  21\n",
      "En la posicion  8 esta  34\n",
      "En la posicion  9 esta  55\n",
      "En la posicion  10 esta  89\n",
      "En la posicion  11 esta  144\n",
      "En la posicion  12 esta  233\n",
      "En la posicion  13 esta  377\n",
      "En la posicion  14 esta  610\n",
      "En la posicion  15 esta  987\n",
      "En la posicion  16 esta  1597\n",
      "En la posicion  17 esta  2584\n",
      "En la posicion  18 esta  4181\n",
      "En la posicion  19 esta  6765\n",
      "En la posicion  20 esta  10946\n",
      "En la posicion  21 esta  17711\n",
      "En la posicion  22 esta  28657\n",
      "En la posicion  23 esta  46368\n",
      "En la posicion  24 esta  75025\n",
      "En la posicion  25 esta  121393\n",
      "En la posicion  26 esta  196418\n",
      "En la posicion  27 esta  317811\n",
      "En la posicion  28 esta  514229\n",
      "En la posicion  29 esta  832040\n",
      "En la posicion  30 esta  1346269\n"
     ]
    }
   ],
   "source": [
    "for d, e in enumerate(fibo):\n",
    "    print('En la posicion ', d+1, 'esta ', e)"
   ]
  },
  {
   "cell_type": "markdown",
   "metadata": {},
   "source": [
    "8) Realizar la suma de todos elementos de la lista del punto anterior"
   ]
  },
  {
   "cell_type": "code",
   "execution_count": 39,
   "metadata": {},
   "outputs": [
    {
     "name": "stdout",
     "output_type": "stream",
     "text": [
      "3524576\n"
     ]
    }
   ],
   "source": [
    "print(sum(fibo))"
   ]
  },
  {
   "cell_type": "markdown",
   "metadata": {},
   "source": [
    "9) La proporción aurea se expresa con una proporción matemática que nace el número irracional Phi= 1,618… que los griegos llamaron número áureo. El cuál se puede aproximar con la sucesión de Fibonacci. Con la lista del ejercicio anterior, imprimir el cociente de los últimos 5 pares de dos números contiguos:<br>\n",
    "Donde i es la cantidad total de elementos<br>\n",
    "n<sub>i-1</sub> / n<sub>i</sub><br>\n",
    "n<sub>i-2</sub> / n<sub>i-1</sub><br>\n",
    "n<sub>i-3</sub> / n<sub>i-2</sub><br>\n",
    "n<sub>i-4</sub> / n<sub>i-3</sub><br>\n",
    "n<sub>i-5</sub> / n<sub>i-4</sub><br>\n",
    " "
   ]
  },
  {
   "cell_type": "code",
   "execution_count": 41,
   "metadata": {},
   "outputs": [
    {
     "name": "stdout",
     "output_type": "stream",
     "text": [
      "1.6180339887505408\n",
      "1.6180339887482036\n",
      "1.6180339887543225\n",
      "1.618033988738303\n",
      "1.6180339887802426\n"
     ]
    }
   ],
   "source": [
    "i =30\n",
    "while(i > 25):\n",
    "    res = fibo[i - 1] / fibo[i - 2]\n",
    "    print(res)\n",
    "    i -= 1"
   ]
  },
  {
   "cell_type": "markdown",
   "metadata": {},
   "source": [
    "10) A partir de la variable cadena ya dada, mostrar en qué posiciones aparece la letra \"n\"<br>\n",
    "cadena = 'Hola Mundo. Esto es una practica del lenguaje de programación Python'"
   ]
  },
  {
   "cell_type": "code",
   "execution_count": 44,
   "metadata": {},
   "outputs": [
    {
     "name": "stdout",
     "output_type": "stream",
     "text": [
      "Hay una  n  en la posicion  7\n",
      "Hay una  n  en la posicion  23\n",
      "Hay una  n  en la posicion  33\n"
     ]
    }
   ],
   "source": [
    "cadena = 'Hola Mundo aca estamos nosotros unidos'\n",
    "\n",
    "for i, c in enumerate(cadena):\n",
    "    if(c == 'n'):\n",
    "        print('Hay una ', c, ' en la posicion ', i)\n",
    "\n"
   ]
  },
  {
   "cell_type": "markdown",
   "metadata": {},
   "source": [
    "11) Crear un diccionario e imprimir sus claves utilizando un iterador"
   ]
  },
  {
   "cell_type": "code",
   "execution_count": 45,
   "metadata": {},
   "outputs": [],
   "source": [
    "dicc_1 = {1:a , 2:b , 3:c , 4:d}"
   ]
  },
  {
   "cell_type": "code",
   "execution_count": 47,
   "metadata": {},
   "outputs": [
    {
     "name": "stdout",
     "output_type": "stream",
     "text": [
      "dict_keys([1, 2, 3, 4])\n"
     ]
    }
   ],
   "source": [
    "print(dicc_1.keys())"
   ]
  },
  {
   "cell_type": "markdown",
   "metadata": {},
   "source": [
    "12) Convertir en una lista la variable \"cadena\" del punto 10 y luego recorrerla con un iterador "
   ]
  },
  {
   "cell_type": "code",
   "execution_count": 48,
   "metadata": {},
   "outputs": [],
   "source": [
    "lista_2 = list(cadena)"
   ]
  },
  {
   "cell_type": "code",
   "execution_count": 51,
   "metadata": {},
   "outputs": [
    {
     "name": "stdout",
     "output_type": "stream",
     "text": [
      "H\n",
      "o\n",
      "l\n",
      "a\n",
      " \n",
      "M\n",
      "u\n",
      "n\n",
      "d\n",
      "o\n",
      " \n",
      "a\n",
      "c\n",
      "a\n",
      " \n",
      "e\n",
      "s\n",
      "t\n",
      "a\n",
      "m\n",
      "o\n",
      "s\n",
      " \n",
      "n\n",
      "o\n",
      "s\n",
      "o\n",
      "t\n",
      "r\n",
      "o\n",
      "s\n",
      " \n",
      "u\n",
      "n\n",
      "i\n",
      "d\n",
      "o\n",
      "s\n"
     ]
    }
   ],
   "source": [
    "for i in lista_2:\n",
    "    print(i)\n"
   ]
  },
  {
   "cell_type": "markdown",
   "metadata": {},
   "source": [
    "13) Crear dos listas y unirlas en una tupla utilizando la función zip"
   ]
  },
  {
   "cell_type": "code",
   "execution_count": 53,
   "metadata": {},
   "outputs": [],
   "source": [
    "list_a = ['a', 'b', 'c', 'd', 'e', 'f']\n",
    "list_b = [1, 2, 3, 4, 5, 6]"
   ]
  },
  {
   "cell_type": "code",
   "execution_count": 54,
   "metadata": {},
   "outputs": [
    {
     "data": {
      "text/plain": [
       "[('a', 1), ('b', 2), ('c', 3), ('d', 4), ('e', 5), ('f', 6)]"
      ]
     },
     "execution_count": 54,
     "metadata": {},
     "output_type": "execute_result"
    }
   ],
   "source": [
    "list_c = zip(list_a , list_b)\n",
    "list(list_c)"
   ]
  },
  {
   "cell_type": "code",
   "execution_count": 56,
   "metadata": {},
   "outputs": [
    {
     "data": {
      "text/plain": [
       "zip"
      ]
     },
     "execution_count": 56,
     "metadata": {},
     "output_type": "execute_result"
    }
   ],
   "source": [
    "type(list_c)"
   ]
  },
  {
   "cell_type": "markdown",
   "metadata": {},
   "source": [
    "14) A partir de la siguiente lista de números, crear una nueva sólo si el número es divisible por 7<br>\n",
    "lis = [18,21,29,32,35,42,56,60,63,71,84,90,91,100]"
   ]
  },
  {
   "cell_type": "code",
   "execution_count": 69,
   "metadata": {},
   "outputs": [],
   "source": [
    "lis = [18,21,29,32,35,42,56,60,63,71,84,90,91,100]\n",
    "lis_res = []\n",
    "i = 0\n",
    "while(i < len(lis)):\n",
    "    if((lis[i] % 7) == 0):\n",
    "        lis_res.append(lis[i])\n",
    "    i += 1\n"
   ]
  },
  {
   "cell_type": "code",
   "execution_count": 70,
   "metadata": {},
   "outputs": [
    {
     "data": {
      "text/plain": [
       "[21, 35, 42, 56, 63, 84, 91]"
      ]
     },
     "execution_count": 70,
     "metadata": {},
     "output_type": "execute_result"
    }
   ],
   "source": [
    "lis_res"
   ]
  },
  {
   "cell_type": "markdown",
   "metadata": {},
   "source": [
    "15) A partir de la lista de a continuación, contar la cantidad total de elementos que contiene, teniendo en cuenta que un elemento de la lista podría ser otra lista:<br>\n",
    "lis = [[1,2,3,4],'rojo','verde',[True,False,False],['uno','dos','tres']]"
   ]
  },
  {
   "cell_type": "code",
   "execution_count": 76,
   "metadata": {},
   "outputs": [
    {
     "name": "stdout",
     "output_type": "stream",
     "text": [
      "12\n"
     ]
    }
   ],
   "source": [
    "lis = [[1,2,3,4],'rojo','verde',[True,False,False],['uno','dos','tres']]\n",
    "i = 0\n",
    "cuenta = 0\n",
    "while(i < len(lis)):\n",
    "    if(type(lis[i]) == list):\n",
    "        cuenta = cuenta + len(lis[i])\n",
    "    else:\n",
    "        cuenta += 1\n",
    "    i += 1\n",
    "print(cuenta)"
   ]
  },
  {
   "cell_type": "code",
   "execution_count": 75,
   "metadata": {},
   "outputs": [
    {
     "data": {
      "text/plain": [
       "str"
      ]
     },
     "execution_count": 75,
     "metadata": {},
     "output_type": "execute_result"
    }
   ],
   "source": [
    "i = 0\n",
    "type(lis[1])"
   ]
  },
  {
   "cell_type": "markdown",
   "metadata": {},
   "source": [
    "16) Tomar la lista del punto anterior y convertir cada elemento en una lista si no lo es"
   ]
  },
  {
   "cell_type": "code",
   "execution_count": 81,
   "metadata": {},
   "outputs": [
    {
     "name": "stdout",
     "output_type": "stream",
     "text": [
      "[1, 2, 3, 4, 'rojo', 'verde', True, False, False, 'uno', 'dos', 'tres']\n"
     ]
    },
    {
     "data": {
      "text/plain": [
       "12"
      ]
     },
     "execution_count": 81,
     "metadata": {},
     "output_type": "execute_result"
    }
   ],
   "source": [
    "lis = [[1,2,3,4],'rojo','verde',[True,False,False],['uno','dos','tres']]\n",
    "lis1 = []\n",
    "i = 0\n",
    "\n",
    "while(i < len(lis)):\n",
    "    if(type(lis[i]) == list):\n",
    "        j = 0\n",
    "        while(j < len(lis[i])):\n",
    "            lis1.append(lis[i][j])\n",
    "            j += 1\n",
    "    else:\n",
    "        lis1.append(lis[i])\n",
    "    i += 1\n",
    "print(lis1)\n",
    "len(lis1)"
   ]
  },
  {
   "cell_type": "code",
   "execution_count": 78,
   "metadata": {},
   "outputs": [
    {
     "data": {
      "text/plain": [
       "[[1, 2, 3, 4], 'rojo', 'verde', [True, False, False], ['uno', 'dos', 'tres']]"
      ]
     },
     "execution_count": 78,
     "metadata": {},
     "output_type": "execute_result"
    }
   ],
   "source": [
    "lis = [[1,2,3,4],'rojo','verde',[True,False,False],['uno','dos','tres']]\n",
    "lis1 = list(lis)\n",
    "lis1"
   ]
  }
 ],
 "metadata": {
  "kernelspec": {
   "display_name": "Python 3",
   "language": "python",
   "name": "python3"
  },
  "language_info": {
   "codemirror_mode": {
    "name": "ipython",
    "version": 3
   },
   "file_extension": ".py",
   "mimetype": "text/x-python",
   "name": "python",
   "nbconvert_exporter": "python",
   "pygments_lexer": "ipython3",
   "version": "3.10.6"
  },
  "vscode": {
   "interpreter": {
    "hash": "916dbcbb3f70747c44a77c7bcd40155683ae19c65e1c03b4aa3499c5328201f1"
   }
  }
 },
 "nbformat": 4,
 "nbformat_minor": 4
}
